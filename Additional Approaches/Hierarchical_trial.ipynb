{
 "cells": [
  {
   "cell_type": "code",
   "execution_count": 2,
   "id": "exotic-romantic",
   "metadata": {},
   "outputs": [
    {
     "name": "stdout",
     "output_type": "stream",
     "text": [
      "Collecting genieclust\n",
      "  Using cached genieclust-0.9.4.tar.gz (80 kB)\n",
      "  Using cached genieclust-0.9.3.tar.gz (80 kB)\n",
      "  Using cached genieclust-0.9.2.tar.gz (82 kB)\n",
      "  Using cached genieclust-0.9.1.tar.gz (81 kB)\n"
     ]
    },
    {
     "name": "stderr",
     "output_type": "stream",
     "text": [
      "    ERROR: Command errored out with exit status 1:\n",
      "     command: 'c:\\users\\lukas\\appdata\\local\\programs\\python\\python39\\python.exe' -c 'import sys, setuptools, tokenize; sys.argv[0] = '\"'\"'C:\\\\Users\\\\lukas\\\\AppData\\\\Local\\\\Temp\\\\pip-install-g5vxezn8\\\\genieclust_5b16e883a20644909ae13bd67739e962\\\\setup.py'\"'\"'; __file__='\"'\"'C:\\\\Users\\\\lukas\\\\AppData\\\\Local\\\\Temp\\\\pip-install-g5vxezn8\\\\genieclust_5b16e883a20644909ae13bd67739e962\\\\setup.py'\"'\"';f=getattr(tokenize, '\"'\"'open'\"'\"', open)(__file__);code=f.read().replace('\"'\"'\\r\\n'\"'\"', '\"'\"'\\n'\"'\"');f.close();exec(compile(code, __file__, '\"'\"'exec'\"'\"'))' egg_info --egg-base 'C:\\Users\\lukas\\AppData\\Local\\Temp\\pip-pip-egg-info-olfrwr3i'\n",
      "         cwd: C:\\Users\\lukas\\AppData\\Local\\Temp\\pip-install-g5vxezn8\\genieclust_5b16e883a20644909ae13bd67739e962\\\n",
      "    Complete output (5 lines):\n",
      "    Traceback (most recent call last):\n",
      "      File \"<string>\", line 1, in <module>\n",
      "      File \"C:\\Users\\lukas\\AppData\\Local\\Temp\\pip-install-g5vxezn8\\genieclust_5b16e883a20644909ae13bd67739e962\\setup.py\", line 19, in <module>\n",
      "        from Cython.Distutils import build_ext\n",
      "    ModuleNotFoundError: No module named 'Cython'\n",
      "    ----------------------------------------\n",
      "WARNING: Discarding https://files.pythonhosted.org/packages/1d/84/9a28fdc962947d6d98e8362e1bfc5437abc2aabea4069cd604932f17f1c4/genieclust-0.9.4.tar.gz#sha256=64585b10ddd58dd2a0c0fc8c2cbec281cd227a3e91dc73f3a26e49a426f25055 (from https://pypi.org/simple/genieclust/). Command errored out with exit status 1: python setup.py egg_info Check the logs for full command output.\n",
      "    ERROR: Command errored out with exit status 1:\n",
      "     command: 'c:\\users\\lukas\\appdata\\local\\programs\\python\\python39\\python.exe' -c 'import sys, setuptools, tokenize; sys.argv[0] = '\"'\"'C:\\\\Users\\\\lukas\\\\AppData\\\\Local\\\\Temp\\\\pip-install-g5vxezn8\\\\genieclust_26c2064d0f524ba396fd44bcbddd09fa\\\\setup.py'\"'\"'; __file__='\"'\"'C:\\\\Users\\\\lukas\\\\AppData\\\\Local\\\\Temp\\\\pip-install-g5vxezn8\\\\genieclust_26c2064d0f524ba396fd44bcbddd09fa\\\\setup.py'\"'\"';f=getattr(tokenize, '\"'\"'open'\"'\"', open)(__file__);code=f.read().replace('\"'\"'\\r\\n'\"'\"', '\"'\"'\\n'\"'\"');f.close();exec(compile(code, __file__, '\"'\"'exec'\"'\"'))' egg_info --egg-base 'C:\\Users\\lukas\\AppData\\Local\\Temp\\pip-pip-egg-info-7439gqt3'\n",
      "         cwd: C:\\Users\\lukas\\AppData\\Local\\Temp\\pip-install-g5vxezn8\\genieclust_26c2064d0f524ba396fd44bcbddd09fa\\\n",
      "    Complete output (5 lines):\n",
      "    Traceback (most recent call last):\n",
      "      File \"<string>\", line 1, in <module>\n",
      "      File \"C:\\Users\\lukas\\AppData\\Local\\Temp\\pip-install-g5vxezn8\\genieclust_26c2064d0f524ba396fd44bcbddd09fa\\setup.py\", line 19, in <module>\n",
      "        from Cython.Distutils import build_ext\n",
      "    ModuleNotFoundError: No module named 'Cython'\n",
      "    ----------------------------------------\n",
      "WARNING: Discarding https://files.pythonhosted.org/packages/b7/8c/d611db63bb6c19a7eff9220da591939829b4f761e1ce298eb74476101d49/genieclust-0.9.3.tar.gz#sha256=38b2202b5a8658f7567ff50bf61161fa9524cfb45f680371aa15ce6ec9f439e1 (from https://pypi.org/simple/genieclust/). Command errored out with exit status 1: python setup.py egg_info Check the logs for full command output.\n",
      "    ERROR: Command errored out with exit status 1:\n",
      "     command: 'c:\\users\\lukas\\appdata\\local\\programs\\python\\python39\\python.exe' -c 'import sys, setuptools, tokenize; sys.argv[0] = '\"'\"'C:\\\\Users\\\\lukas\\\\AppData\\\\Local\\\\Temp\\\\pip-install-g5vxezn8\\\\genieclust_f1020404575947508776a64cc6870e84\\\\setup.py'\"'\"'; __file__='\"'\"'C:\\\\Users\\\\lukas\\\\AppData\\\\Local\\\\Temp\\\\pip-install-g5vxezn8\\\\genieclust_f1020404575947508776a64cc6870e84\\\\setup.py'\"'\"';f=getattr(tokenize, '\"'\"'open'\"'\"', open)(__file__);code=f.read().replace('\"'\"'\\r\\n'\"'\"', '\"'\"'\\n'\"'\"');f.close();exec(compile(code, __file__, '\"'\"'exec'\"'\"'))' egg_info --egg-base 'C:\\Users\\lukas\\AppData\\Local\\Temp\\pip-pip-egg-info-7r4sa3o9'\n",
      "         cwd: C:\\Users\\lukas\\AppData\\Local\\Temp\\pip-install-g5vxezn8\\genieclust_f1020404575947508776a64cc6870e84\\\n",
      "    Complete output (5 lines):\n",
      "    Traceback (most recent call last):\n",
      "      File \"<string>\", line 1, in <module>\n",
      "      File \"C:\\Users\\lukas\\AppData\\Local\\Temp\\pip-install-g5vxezn8\\genieclust_f1020404575947508776a64cc6870e84\\setup.py\", line 19, in <module>\n",
      "        from Cython.Distutils import build_ext\n",
      "    ModuleNotFoundError: No module named 'Cython'\n",
      "    ----------------------------------------\n",
      "WARNING: Discarding https://files.pythonhosted.org/packages/f8/0d/9f77dd918f81abdd69ad0ef3d2b20830f2f4bf8fd8b6c08b8fa2bf1d32f4/genieclust-0.9.2.tar.gz#sha256=fdb5fa3bd43dab5fb003a4ad62ca783a25131ae31981a6906455c6cb7bb8b824 (from https://pypi.org/simple/genieclust/). Command errored out with exit status 1: python setup.py egg_info Check the logs for full command output.\n",
      "    ERROR: Command errored out with exit status 1:\n",
      "     command: 'c:\\users\\lukas\\appdata\\local\\programs\\python\\python39\\python.exe' -c 'import sys, setuptools, tokenize; sys.argv[0] = '\"'\"'C:\\\\Users\\\\lukas\\\\AppData\\\\Local\\\\Temp\\\\pip-install-g5vxezn8\\\\genieclust_b55ab1ed43e8480db042dbe2251d4ac4\\\\setup.py'\"'\"'; __file__='\"'\"'C:\\\\Users\\\\lukas\\\\AppData\\\\Local\\\\Temp\\\\pip-install-g5vxezn8\\\\genieclust_b55ab1ed43e8480db042dbe2251d4ac4\\\\setup.py'\"'\"';f=getattr(tokenize, '\"'\"'open'\"'\"', open)(__file__);code=f.read().replace('\"'\"'\\r\\n'\"'\"', '\"'\"'\\n'\"'\"');f.close();exec(compile(code, __file__, '\"'\"'exec'\"'\"'))' egg_info --egg-base 'C:\\Users\\lukas\\AppData\\Local\\Temp\\pip-pip-egg-info-2vke7jnz'\n",
      "         cwd: C:\\Users\\lukas\\AppData\\Local\\Temp\\pip-install-g5vxezn8\\genieclust_b55ab1ed43e8480db042dbe2251d4ac4\\\n",
      "    Complete output (5 lines):\n",
      "    Traceback (most recent call last):\n",
      "      File \"<string>\", line 1, in <module>\n",
      "      File \"C:\\Users\\lukas\\AppData\\Local\\Temp\\pip-install-g5vxezn8\\genieclust_b55ab1ed43e8480db042dbe2251d4ac4\\setup.py\", line 19, in <module>\n",
      "        from Cython.Distutils import build_ext\n",
      "    ModuleNotFoundError: No module named 'Cython'\n",
      "    ----------------------------------------\n",
      "WARNING: Discarding https://files.pythonhosted.org/packages/be/7f/636c42077a81d95d340fa81aa411259e91f1e7aef0504aff2a51806a7aa8/genieclust-0.9.1.tar.gz#sha256=956d8f83b45ada29b82e6285d89cac7bd998b31eba9261ac9b484ad18a73299a (from https://pypi.org/simple/genieclust/). Command errored out with exit status 1: python setup.py egg_info Check the logs for full command output.\n",
      "ERROR: Could not find a version that satisfies the requirement genieclust\n",
      "ERROR: No matching distribution found for genieclust\n"
     ]
    }
   ],
   "source": [
    "!pip3 install genieclust"
   ]
  },
  {
   "cell_type": "code",
   "execution_count": 6,
   "id": "indian-imagination",
   "metadata": {},
   "outputs": [],
   "source": [
    "import pandas as pd\n",
    "from sklearn.preprocessing import MinMaxScaler, StandardScaler\n",
    "from sklearn.cluster import KMeans\n",
    "from sklearn.decomposition import PCA\n",
    "from sklearn.metrics import silhouette_samples, silhouette_score\n",
    "import matplotlib.pyplot as plt\n",
    "import scipy.cluster.hierarchy as sch\n",
    "\n",
    "from tsfresh.feature_selection.relevance import calculate_relevance_table\n",
    "from tsfresh import extract_features\n",
    "import numpy as np\n",
    "from sklearn.datasets import make_blobs\n",
    "from sklearn.metrics import pairwise_distances\n",
    "\n"
   ]
  },
  {
   "cell_type": "code",
   "execution_count": 2,
   "id": "extraordinary-fairy",
   "metadata": {},
   "outputs": [],
   "source": [
    "ts = pd.read_csv('../data/feats_scaled.csv')\n",
    "\n",
    "ts_normed = pd.read_csv('../data/feats_normed.csv')\n",
    "\n",
    "ts_unscaled = pd.read_csv('../data/available_feats.csv')"
   ]
  },
  {
   "cell_type": "code",
   "execution_count": 3,
   "id": "complex-model",
   "metadata": {},
   "outputs": [],
   "source": [
    "mms = MinMaxScaler()\n",
    "mms.fit(ts_unscaled)\n",
    "data_transformed = mms.transform(ts_unscaled)\n",
    "\n",
    "data_scaled = StandardScaler().fit_transform(ts_unscaled)"
   ]
  },
  {
   "cell_type": "code",
   "execution_count": null,
   "id": "retired-running",
   "metadata": {},
   "outputs": [],
   "source": [
    "dendrogram = sch.dendrogram(sch.linkage(data_scaled, method  = \"ward\"))\n",
    "plt.title('Dendrogram')\n",
    "plt.xlabel('Customers')\n",
    "plt.ylabel('Euclidean distances')\n",
    "plt.show()"
   ]
  }
 ],
 "metadata": {
  "kernelspec": {
   "display_name": "Python 3",
   "language": "python",
   "name": "python3"
  },
  "language_info": {
   "codemirror_mode": {
    "name": "ipython",
    "version": 3
   },
   "file_extension": ".py",
   "mimetype": "text/x-python",
   "name": "python",
   "nbconvert_exporter": "python",
   "pygments_lexer": "ipython3",
   "version": "3.8.8"
  }
 },
 "nbformat": 4,
 "nbformat_minor": 5
}
