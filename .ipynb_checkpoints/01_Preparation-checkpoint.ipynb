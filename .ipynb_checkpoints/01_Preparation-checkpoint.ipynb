{
 "cells": [
  {
   "cell_type": "markdown",
   "metadata": {},
   "source": [
    "# Data Preparation\n",
    "- Includes feature extraction and forecast calculation"
   ]
  },
  {
   "cell_type": "code",
   "execution_count": null,
   "metadata": {
    "lines_to_next_cell": 0
   },
   "outputs": [],
   "source": [
    "if (!require(\"pacman\")) install.packages(\"pacman\")\n",
    "pacman::p_load(tidyverse, ggfortify, zoo, forecast, tsfeatures, parallel, data.table, furrr, tictoc, janitor, data.table, readr)\n",
    "library(M4metalearning)\n",
    "\n",
    "source(\"helperCode/UserFunctionality.R\")"
   ]
  },
  {
   "cell_type": "code",
   "execution_count": null,
   "metadata": {},
   "outputs": [],
   "source": [
    "ts_dataframe <- read_csv(\"~/data/ts_dataframe.csv\")\n",
    "load(\"~/data/SPdata.RDATA\")"
   ]
  },
  {
   "cell_type": "markdown",
   "metadata": {},
   "source": [
    "\n"
   ]
  },
  {
   "cell_type": "markdown",
   "metadata": {
    "lines_to_next_cell": 0
   },
   "source": [
    "### Remove duplicate Time Series"
   ]
  },
  {
   "cell_type": "code",
   "execution_count": 3,
   "metadata": {},
   "outputs": [],
   "source": [
    "ts_rows <- ts_dataframe %>% pivot_wider(id_cols = 'id', values_from='Y', names_from='date')\n",
    "\n",
    "unique_ts <- ts_rows %>% distinct_at(vars(-id), .keep_all=T) %>% select(id)\n",
    "\n",
    "SPdata_reduced <- SPdata[unique_ts$id]"
   ]
  },
  {
   "cell_type": "markdown",
   "metadata": {
    "lines_to_next_cell": 0
   },
   "source": [
    "### Rename lst elements appropriately"
   ]
  },
  {
   "cell_type": "code",
   "execution_count": 4,
   "metadata": {
    "lines_to_next_cell": 2
   },
   "outputs": [],
   "source": [
    "SPdata_reduced <- lapply(SPdata_reduced, seriesrenamR)"
   ]
  },
  {
   "cell_type": "markdown",
   "metadata": {
    "lines_to_next_cell": 0
   },
   "source": [
    "### Extract features"
   ]
  },
  {
   "cell_type": "code",
   "execution_count": 5,
   "metadata": {},
   "outputs": [],
   "source": [
    "tsfresh_feats <- lapply(SPdata_reduced,tsfresh_extractor)"
   ]
  },
  {
   "cell_type": "code",
   "execution_count": null,
   "metadata": {
    "lines_to_next_cell": 2
   },
   "outputs": [],
   "source": [
    "Hyndman_Feats <- THA_features(SPdata_reduced)"
   ]
  },
  {
   "cell_type": "markdown",
   "metadata": {
    "lines_to_next_cell": 0
   },
   "source": [
    "### Map both feature groups into one df"
   ]
  },
  {
   "cell_type": "code",
   "execution_count": 9,
   "metadata": {},
   "outputs": [],
   "source": [
    "all_feats <- map2(tsfresh_feats, Hyndman_Feats, featconnectR)"
   ]
  },
  {
   "cell_type": "code",
   "execution_count": 10,
   "metadata": {},
   "outputs": [],
   "source": [
    "all_feats_df <- data.frame(matrix(unlist(all_feats), nrow = length(all_feats), byrow = T))\n",
    "\n",
    "names(all_feats_df) <- names(all_feats[[1]])"
   ]
  },
  {
   "cell_type": "markdown",
   "metadata": {
    "lines_to_next_cell": 0
   },
   "source": [
    "### Reduce perfectly correlating elements"
   ]
  },
  {
   "cell_type": "code",
   "execution_count": null,
   "metadata": {
    "lines_to_next_cell": 2
   },
   "outputs": [],
   "source": [
    "cormat <- cor(all_feats_df)"
   ]
  },
  {
   "cell_type": "markdown",
   "metadata": {
    "lines_to_next_cell": 0
   },
   "source": [
    "### Kick Rows with only NA"
   ]
  },
  {
   "cell_type": "code",
   "execution_count": 12,
   "metadata": {
    "lines_to_next_cell": 2
   },
   "outputs": [],
   "source": [
    "ColNums_NotAllMissing <- function(df){ # helper function\n",
    "  out <- as.vector(which(colSums(is.na(df)) != nrow(df)-1))\n",
    "  return(out)\n",
    "}\n",
    "\n",
    "delete.na <- function(DF, n=0) {\n",
    "  return(DF[rowSums(is.na(DF)) <= n,])\n",
    "}\n"
   ]
  },
  {
   "cell_type": "markdown",
   "metadata": {
    "lines_to_next_cell": 0
   },
   "source": [
    "### Reduce elements with all misssings"
   ]
  },
  {
   "cell_type": "code",
   "execution_count": 13,
   "metadata": {
    "lines_to_next_cell": 0
   },
   "outputs": [],
   "source": [
    "cordf <- data.frame(cormat) %>% select(ColNums_NotAllMissing(.))\n",
    "\n",
    "cormat_reduced <- as.matrix(delete.na(cordf, 292))\n",
    "\n",
    "cordf_reduced <- data.frame(cormat_reduced)\n",
    "\n"
   ]
  },
  {
   "cell_type": "markdown",
   "metadata": {},
   "source": [
    "\n",
    "\n"
   ]
  },
  {
   "cell_type": "code",
   "execution_count": 14,
   "metadata": {},
   "outputs": [
    {
     "data": {
      "text/html": [
       "<table class=\"dataframe\">\n",
       "<caption>A data.frame: 1 × 1</caption>\n",
       "<thead>\n",
       "\t<tr><th scope=col>n</th></tr>\n",
       "\t<tr><th scope=col>&lt;int&gt;</th></tr>\n",
       "</thead>\n",
       "<tbody>\n",
       "\t<tr><td>527</td></tr>\n",
       "</tbody>\n",
       "</table>\n"
      ],
      "text/latex": [
       "A data.frame: 1 × 1\n",
       "\\begin{tabular}{l}\n",
       " n\\\\\n",
       " <int>\\\\\n",
       "\\hline\n",
       "\t 527\\\\\n",
       "\\end{tabular}\n"
      ],
      "text/markdown": [
       "\n",
       "A data.frame: 1 × 1\n",
       "\n",
       "| n &lt;int&gt; |\n",
       "|---|\n",
       "| 527 |\n",
       "\n"
      ],
      "text/plain": [
       "  n  \n",
       "1 527"
      ]
     },
     "metadata": {},
     "output_type": "display_data"
    }
   ],
   "source": [
    "cordf_reduced %>% gather(X, value) %>% \n",
    "  filter(value >=0.999999999999) %>% \n",
    "  tally()"
   ]
  },
  {
   "cell_type": "code",
   "execution_count": 15,
   "metadata": {},
   "outputs": [
    {
     "data": {
      "text/html": [
       "<strong>1:</strong> 527"
      ],
      "text/latex": [
       "\\textbf{1:} 527"
      ],
      "text/markdown": [
       "**1:** 527"
      ],
      "text/plain": [
       "  1 \n",
       "527 "
      ]
     },
     "metadata": {},
     "output_type": "display_data"
    }
   ],
   "source": [
    "table(cormat_reduced)['1']"
   ]
  },
  {
   "cell_type": "markdown",
   "metadata": {
    "lines_to_next_cell": 0
   },
   "source": [
    "### Show number of 1s per column"
   ]
  },
  {
   "cell_type": "code",
   "execution_count": 16,
   "metadata": {},
   "outputs": [],
   "source": [
    "out <- cordf_reduced %>% gather(X, value) %>% \n",
    "  filter(value  >=0.999999999999) %>% \n",
    "  group_by(X) %>% \n",
    "  tally()"
   ]
  },
  {
   "cell_type": "markdown",
   "metadata": {
    "lines_to_next_cell": 0
   },
   "source": [
    "### Store elements with more than 1 element having corr = 1"
   ]
  },
  {
   "cell_type": "code",
   "execution_count": 18,
   "metadata": {},
   "outputs": [],
   "source": [
    "noDups <- out %>% filter(n ==1) %>% select(X) \n",
    "\n",
    "final_df <- cordf_reduced[,c(noDups$X)]"
   ]
  },
  {
   "cell_type": "code",
   "execution_count": 19,
   "metadata": {
    "lines_to_next_cell": 2
   },
   "outputs": [],
   "source": [
    "grouping <- c(names(final_df))"
   ]
  },
  {
   "cell_type": "markdown",
   "metadata": {
    "lines_to_next_cell": 0
   },
   "source": [
    "### Syntactical adjustments"
   ]
  },
  {
   "cell_type": "code",
   "execution_count": 20,
   "metadata": {},
   "outputs": [],
   "source": [
    "names(all_feats_df) <- gsub('\"', '.', names(all_feats_df))\n",
    "\n",
    "names(all_feats_df) <- gsub(',', '.', names(all_feats_df))\n",
    "\n",
    "names(all_feats_df) <- gsub(' ', '.', names(all_feats_df))\n",
    "\n",
    "names(all_feats_df) <- gsub('[()]', '.', names(all_feats_df))\n",
    "\n",
    "names(all_feats_df) <- gsub('-', '.', names(all_feats_df))\n"
   ]
  },
  {
   "cell_type": "code",
   "execution_count": 21,
   "metadata": {
    "lines_to_next_cell": 0
   },
   "outputs": [],
   "source": [
    "available_feats <- all_feats_df[,grouping]\n"
   ]
  },
  {
   "cell_type": "markdown",
   "metadata": {},
   "source": [
    "\n"
   ]
  },
  {
   "cell_type": "markdown",
   "metadata": {
    "lines_to_next_cell": 0
   },
   "source": [
    "### Normalization of available features"
   ]
  },
  {
   "cell_type": "code",
   "execution_count": null,
   "metadata": {},
   "outputs": [],
   "source": [
    "available_feats_normed <- py_scaler(available_feats) %>% as_data_frame()\n",
    "\n",
    "names(available_feats_normed) <- names(available_feats)"
   ]
  },
  {
   "cell_type": "code",
   "execution_count": 23,
   "metadata": {
    "lines_to_next_cell": 2
   },
   "outputs": [],
   "source": [
    "# Add new feats to dataset\n",
    "\n",
    "for (i in 1:length(SPdata_reduced)){\n",
    "SPdata_reduced[[i]]$features <- round(available_feats_normed[i,], 7)}"
   ]
  },
  {
   "cell_type": "markdown",
   "metadata": {
    "lines_to_next_cell": 0
   },
   "source": [
    "### Calculate forecasts for SPData"
   ]
  },
  {
   "cell_type": "code",
   "execution_count": 24,
   "metadata": {
    "lines_to_next_cell": 2
   },
   "outputs": [
    {
     "name": "stdout",
     "output_type": "stream",
     "text": [
      "13.5 sec elapsed\n"
     ]
    }
   ],
   "source": [
    "\n",
    "SPdata_holdout <- temp_holdout(SPdata_reduced[1:10])\n",
    "\n",
    "tic()\n",
    "SPdata_forecasted <- calc_forecasts(SPdata_holdout, c('naive_forec', 'snaive_forec', 'stlm_ar_forec', 'ets_forec', 'rw_drift_forec', 'thetaf_forec', 'auto_arima_forec', 'nnetar_forec'), n.cores=11)\n",
    "toc()\n",
    "\n",
    "#save(SPdata_forecasted, file = '../data/SPdata_forecasted.RData')\n"
   ]
  },
  {
   "cell_type": "markdown",
   "metadata": {
    "lines_to_next_cell": 0
   },
   "source": [
    "### Check for NA Inf and huge errors"
   ]
  },
  {
   "cell_type": "code",
   "execution_count": null,
   "metadata": {
    "lines_to_next_cell": 0
   },
   "outputs": [],
   "source": [
    "sptrain <- calc_errors(SPdata_forecasted)\n",
    "\n",
    "\n",
    "idxlst <- unlist(lapply(1:length(sptrain),function(i){if(any(is.na(sptrain[[i]]$mase_err)) | any(is.infinite(sptrain[[i]]$mase_err))){return(i)}}))\n",
    "\n",
    "\n",
    "spdat_reduced <- SPdata_forecasted[-idxlst] \n",
    "\n",
    "#spdat_reduced <- calc_errors(spdat_reduced[-c(23545, 4771, 27102)])\n",
    "\n",
    "train_data <- create_feat_classif_problem(spdat_reduced)\n",
    "\n"
   ]
  },
  {
   "cell_type": "markdown",
   "metadata": {},
   "source": [
    "\n"
   ]
  }
 ],
 "metadata": {
  "jupytext": {
   "cell_metadata_filter": "name,tags,-all",
   "main_language": "R",
   "notebook_metadata_filter": "-all"
  },
  "kernelspec": {
   "display_name": "R",
   "language": "R",
   "name": "ir"
  },
  "language_info": {
   "codemirror_mode": "r",
   "file_extension": ".r",
   "mimetype": "text/x-r-source",
   "name": "R",
   "pygments_lexer": "r",
   "version": "4.0.4"
  }
 },
 "nbformat": 4,
 "nbformat_minor": 4
}
