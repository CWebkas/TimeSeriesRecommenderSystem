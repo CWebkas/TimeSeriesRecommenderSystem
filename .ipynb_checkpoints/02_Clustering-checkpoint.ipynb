{
 "cells": [
  {
   "cell_type": "markdown",
   "metadata": {},
   "source": [
    "# Clustering\n",
    "- Run Affinity Propagation \n",
    "- Requires Reticulate"
   ]
  },
  {
   "cell_type": "code",
   "execution_count": 1,
   "metadata": {},
   "outputs": [
    {
     "data": {
      "text/plain": [
       "python:         C:/Users/lukas/AppData/Local/r-miniconda/envs/r-reticulate/python.exe\n",
       "libpython:      C:/Users/lukas/AppData/Local/r-miniconda/envs/r-reticulate/python36.dll\n",
       "pythonhome:     C:/Users/lukas/AppData/Local/r-miniconda/envs/r-reticulate\n",
       "version:        3.6.13 (default, Feb 19 2021, 05:17:09) [MSC v.1916 64 bit (AMD64)]\n",
       "Architecture:   64bit\n",
       "numpy:          C:/Users/lukas/AppData/Local/r-miniconda/envs/r-reticulate/Lib/site-packages/numpy\n",
       "numpy_version:  1.19.5"
      ]
     },
     "metadata": {},
     "output_type": "display_data"
    }
   ],
   "source": [
    "pacman::p_load(tidyverse, sampling, apcluster, data.table, dtw, tictoc, reticulate, ggdendro, ggfortify, reshape2, purrr)\n",
    "\n",
    "py_config()\n",
    "\n",
    "py_install('pandas')\n",
    "\n",
    "source_python('helperCode/add.py')"
   ]
  },
  {
   "cell_type": "code",
   "execution_count": 2,
   "metadata": {
    "lines_to_next_cell": 0
   },
   "outputs": [],
   "source": [
    "load(\"~/data/feats_normed.RData\")\n",
    "load(\"~/data/SPDat_reduced_all.RData\")\n",
    "load(\"~/data/feat_importance_clustered.RData\")\n",
    "\n",
    "available_feats_normed <- feats_normed"
   ]
  },
  {
   "cell_type": "markdown",
   "metadata": {
    "lines_to_next_cell": 0
   },
   "source": [
    "# Extract ts length from data"
   ]
  },
  {
   "cell_type": "code",
   "execution_count": 3,
   "metadata": {
    "lines_to_next_cell": 0
   },
   "outputs": [],
   "source": [
    "\n",
    "len_df <- function(elm){\n",
    "  out <- elm$n \n",
    "  return(out)\n",
    "}\n",
    "\n",
    "\n",
    "lens <- lapply(spdat_reduced_all, len_df)\n",
    "\n",
    "\n",
    "len_df <- data.frame(matrix(unlist(lens), nrow = length(lens), byrow = T))\n",
    "\n",
    "len_df <- len_df %>% rename(length_ts = matrix.unlist.lens...nrow...length.lens...byrow...T.)"
   ]
  },
  {
   "cell_type": "markdown",
   "metadata": {},
   "source": [
    "\n"
   ]
  },
  {
   "cell_type": "markdown",
   "metadata": {
    "lines_to_next_cell": 0
   },
   "source": [
    "# Assign counter variable for length occurences"
   ]
  },
  {
   "cell_type": "code",
   "execution_count": 4,
   "metadata": {
    "lines_to_next_cell": 2
   },
   "outputs": [
    {
     "name": "stderr",
     "output_type": "stream",
     "text": [
      "Joining, by = \"length_ts\"\n",
      "\n"
     ]
    }
   ],
   "source": [
    "helper_df <- len_df %>% \n",
    "  \n",
    "  # Count occurences of a length\n",
    "  group_by(length_ts) %>% \n",
    "  tally() #%>% \n",
    "  \n",
    "  # Join to get the correct order for strata back\n",
    "  samp_df <- helper_df %>% left_join(len_df)"
   ]
  },
  {
   "cell_type": "markdown",
   "metadata": {
    "lines_to_next_cell": 0
   },
   "source": [
    "# Prepare dataset to only sample from frequently occuring lengths"
   ]
  },
  {
   "cell_type": "code",
   "execution_count": 5,
   "metadata": {
    "lines_to_next_cell": 2
   },
   "outputs": [],
   "source": [
    "# Sample 10% of occurence if n is larger than 10\n",
    "sampsizes <- ifelse(helper_df$n >= 10,round(0.1*helper_df$n),1)"
   ]
  },
  {
   "cell_type": "markdown",
   "metadata": {
    "lines_to_next_cell": 0
   },
   "source": [
    "# Extract strata based on proposed sampsizes above"
   ]
  },
  {
   "cell_type": "code",
   "execution_count": 6,
   "metadata": {},
   "outputs": [],
   "source": [
    "set.seed(2021)\n",
    "all_insamp_indx <- strata(samp_df, stratanames = c(\"length_ts\"), size = sampsizes, method = 'srswor')"
   ]
  },
  {
   "cell_type": "markdown",
   "metadata": {
    "lines_to_next_cell": 0
   },
   "source": [
    "### Index Dataframe to be able to reorder all features to their Time Series"
   ]
  },
  {
   "cell_type": "code",
   "execution_count": 7,
   "metadata": {},
   "outputs": [],
   "source": [
    "all_indxs <- tibble(ID_unit = c(seq(1:nrow(samp_df))))"
   ]
  },
  {
   "cell_type": "code",
   "execution_count": 8,
   "metadata": {
    "lines_to_next_cell": 2
   },
   "outputs": [
    {
     "name": "stderr",
     "output_type": "stream",
     "text": [
      "Joining, by = \"ID_unit\"\n",
      "\n"
     ]
    }
   ],
   "source": [
    "all_outsamp_indxs <- all_indxs %>% anti_join(all_insamp_indx %>% select(ID_unit))"
   ]
  },
  {
   "cell_type": "markdown",
   "metadata": {
    "lines_to_next_cell": 0
   },
   "source": [
    "# Extract from original df via indexno, also get non sampled feats via anti join"
   ]
  },
  {
   "cell_type": "code",
   "execution_count": 9,
   "metadata": {},
   "outputs": [],
   "source": [
    "all_samped_units <- available_feats_normed[all_insamp_indx$ID_unit,] "
   ]
  },
  {
   "cell_type": "code",
   "execution_count": 10,
   "metadata": {
    "echo": false,
    "lines_to_next_cell": 2
   },
   "outputs": [],
   "source": [
    "all_non_samped_units <- available_feats_normed[all_outsamp_indxs$ID_unit,]"
   ]
  },
  {
   "cell_type": "markdown",
   "metadata": {},
   "source": [
    "### Clustering"
   ]
  },
  {
   "cell_type": "code",
   "execution_count": 11,
   "metadata": {
    "lines_to_next_cell": 2
   },
   "outputs": [],
   "source": [
    "prp <- py_affinity_propagation(all_samped_units)"
   ]
  },
  {
   "cell_type": "markdown",
   "metadata": {
    "lines_to_next_cell": 0
   },
   "source": [
    "### Predicting nonsampled units\n",
    "\n",
    "prp 1 contains the model"
   ]
  },
  {
   "cell_type": "code",
   "execution_count": 12,
   "metadata": {
    "lines_to_next_cell": 0
   },
   "outputs": [],
   "source": [
    "preds <- py_affinity_predictor(prp[[1]], all_non_samped_units)"
   ]
  },
  {
   "cell_type": "markdown",
   "metadata": {},
   "source": [
    "\n"
   ]
  },
  {
   "cell_type": "code",
   "execution_count": 14,
   "metadata": {},
   "outputs": [],
   "source": [
    "nonsamped_preds <- all_non_samped_units %>% mutate(cls_label = preds, insamp = rep(0, nrow(all_non_samped_units))) %>% mutate(cls_center = 0)"
   ]
  },
  {
   "cell_type": "code",
   "execution_count": 15,
   "metadata": {},
   "outputs": [],
   "source": [
    "samped_labs <- all_samped_units %>% mutate(cls_label = prp[[2]], insamp = rep(1, nrow(all_samped_units))) %>% mutate(cls_center = 0)"
   ]
  },
  {
   "cell_type": "markdown",
   "metadata": {
    "lines_to_next_cell": 0
   },
   "source": [
    "### Label representatives with 1 for cls center"
   ]
  },
  {
   "cell_type": "code",
   "execution_count": 16,
   "metadata": {
    "lines_to_next_cell": 2
   },
   "outputs": [],
   "source": [
    "samped_labs[prp[[3]],]$cls_center <- 1"
   ]
  },
  {
   "cell_type": "markdown",
   "metadata": {},
   "source": [
    "### Bind nonsampled and sampled, including sample and cluster information"
   ]
  },
  {
   "cell_type": "code",
   "execution_count": 17,
   "metadata": {
    "lines_to_next_cell": 2
   },
   "outputs": [],
   "source": [
    "all_data_labelled <- samped_labs %>% \n",
    "  \n",
    "  # add ID unit in original TS List to sampled lables\n",
    "  mutate(ID_unit = all_insamp_indx$ID_unit) %>% \n",
    "  \n",
    "  # Add ID unit to non sampled predictions before rowbinding\n",
    "  bind_rows(nonsamped_preds %>% mutate(ID_unit = all_outsamp_indxs$ID_unit)) "
   ]
  },
  {
   "cell_type": "markdown",
   "metadata": {
    "lines_to_next_cell": 0
   },
   "source": [
    "### Plotting count per cluster"
   ]
  },
  {
   "cell_type": "code",
   "execution_count": 18,
   "metadata": {
    "lines_to_next_cell": 2
   },
   "outputs": [
    {
     "data": {
      "image/png": "[encoded data removed]",
      "text/plain": [
       "plot without title"
      ]
     },
     "metadata": {
      "image/png": {
       "height": 420,
       "width": 420
      }
     },
     "output_type": "display_data"
    },
    {
     "data": {
      "image/png": "[encoded data removed]",
      "text/plain": [
       "plot without title"
      ]
     },
     "metadata": {
      "image/png": {
       "height": 420,
       "width": 420
      }
     },
     "output_type": "display_data"
    }
   ],
   "source": [
    "all_data_labelled %>% filter(insamp==1) %>% ggplot(aes(cls_label))+geom_bar()+ggtitle('Number of TS per cluster over sampled Data')\n",
    "\n",
    "all_data_labelled %>% ggplot(aes(cls_label))+geom_bar()+ggtitle('Number of TS per cluster over all Data')"
   ]
  },
  {
   "cell_type": "markdown",
   "metadata": {
    "lines_to_next_cell": 0
   },
   "source": [
    "### Importance of sampled units"
   ]
  },
  {
   "cell_type": "code",
   "execution_count": 19,
   "metadata": {},
   "outputs": [],
   "source": [
    "\n",
    "#feat_importance_prep <- all_data_labelled[,c(seq(1,269))] %>% mutate(cls_label = as.factor(cls_label))\n",
    "\n",
    "\n",
    "#feat_importance <- py_xgbooster(feat_importance_prep)\n",
    "\n",
    "\n",
    "#feat_importance_clustered <- feat_importance %>% inner_join(feat_importance_clustered %>% select(-importances)) \n",
    "\n",
    "\n",
    "\n",
    "### Compare above plot with feature importance for insamp ts\n",
    "\n",
    "\n",
    "\n",
    "feat_importance_prep_insamp <- all_data_labelled %>% filter(insamp == 1) %>% select(-c(270,271,272)) %>% mutate(cls_label = as.factor(cls_label))\n",
    "\n",
    "\n",
    "\n",
    "#feat_importance_insamp <- py_xgbooster(feat_importance_prep_insamp)\n"
   ]
  },
  {
   "cell_type": "code",
   "execution_count": 20,
   "metadata": {
    "lines_to_next_cell": 0
   },
   "outputs": [],
   "source": [
    "#cls_importances\n",
    "\n",
    "feat_importance_insamp <- lapply(0:39, function(i){py_xgbooster(feat_importance_prep_insamp %>% mutate(cls_label = ifelse(cls_label == i, 1, 0)))})\n"
   ]
  },
  {
   "cell_type": "markdown",
   "metadata": {},
   "source": [
    "\n"
   ]
  },
  {
   "cell_type": "code",
   "execution_count": 21,
   "metadata": {
    "fig.height": 10,
    "fig.width": 15,
    "lines_to_next_cell": 0
   },
   "outputs": [],
   "source": [
    "\n",
    "cbp1 <- c(\"#999999\", \"#E69F00\", \"#56B4E9\", \"#009E73\",\n",
    "          \"#F0E442\", \"#0072B2\", \"#D55E00\", \"#CC79A7\")\n",
    "\n",
    "importancePlottr <- function(cls_elm, clsno, colours = c(\"1\" = \"#62879c\", \"2\" = \"#FF9900\", \"3\" = \"#CCFF00\", \"4\" = \"#fff478\", \"6\" = \"#00FF66\", \"7\"=\"#00FFFF\", \"8\"=\"#FF0000\", \"9\"=\"#3300FF\", \"5\"=\"#CC00FF\", \"0\"=\"#000000\")){\n",
    "  \n",
    "  \n",
    "\n",
    "plts <- cls_elm  %>% arrange(desc(importances)) %>% head(15) %>% \n",
    "  left_join(feat_importance_clustered %>% select(-importances))%>%\n",
    "  mutate(cls=as.factor(cls)) %>% \n",
    "  ggplot(aes(y = importances, x = reorder(names, importances), fill=cls))+\n",
    "  geom_bar(stat='identity', position = 'dodge')+\n",
    "  scale_fill_manual(values = colours)+\n",
    "  ggtitle(paste('CLS ', clsno))+coord_flip()+\n",
    "  theme(axis.title.y=element_blank(),\n",
    "        axis.text.y=element_text(size=15),\n",
    "        plot.title = element_text(size=20) )\n",
    "\n",
    "return(plts)\n",
    "}"
   ]
  },
  {
   "cell_type": "markdown",
   "metadata": {},
   "source": [
    "# Plotting feature importance per cluster"
   ]
  },
  {
   "cell_type": "code",
   "execution_count": null,
   "metadata": {
    "echo": false,
    "lines_to_next_cell": 0,
    "message": false
   },
   "outputs": [],
   "source": [
    "plts <- map2(feat_importance_insamp, c(seq(0,39)), importancePlottr)"
   ]
  },
  {
   "cell_type": "markdown",
   "metadata": {},
   "source": [
    "\n"
   ]
  },
  {
   "cell_type": "markdown",
   "metadata": {},
   "source": [
    "### Get information on most important features for each cluster"
   ]
  },
  {
   "cell_type": "code",
   "execution_count": 23,
   "metadata": {
    "lines_to_next_cell": 0
   },
   "outputs": [
    {
     "name": "stdout",
     "output_type": "stream",
     "text": [
      "[1] 1\n"
     ]
    },
    {
     "name": "stderr",
     "output_type": "stream",
     "text": [
      "Joining, by = \"names\"\n",
      "\n",
      "No id variables; using all as measure variables\n",
      "\n",
      "No id variables; using all as measure variables\n",
      "\n",
      "No id variables; using all as measure variables\n",
      "\n",
      "Using varname as id variables\n",
      "\n",
      "Using varname as id variables\n",
      "\n",
      "Using varname as id variables\n",
      "\n",
      "Using varname as id variables\n",
      "\n",
      "Using varname as id variables\n",
      "\n"
     ]
    },
    {
     "name": "stdout",
     "output_type": "stream",
     "text": [
      "[1] 2\n"
     ]
    },
    {
     "name": "stderr",
     "output_type": "stream",
     "text": [
      "Joining, by = \"names\"\n",
      "\n",
      "No id variables; using all as measure variables\n",
      "\n",
      "No id variables; using all as measure variables\n",
      "\n",
      "No id variables; using all as measure variables\n",
      "\n",
      "Using varname as id variables\n",
      "\n",
      "Using varname as id variables\n",
      "\n",
      "Using varname as id variables\n",
      "\n",
      "Using varname as id variables\n",
      "\n",
      "Using varname as id variables\n",
      "\n"
     ]
    },
    {
     "name": "stdout",
     "output_type": "stream",
     "text": [
      "[1] 3\n"
     ]
    },
    {
     "name": "stderr",
     "output_type": "stream",
     "text": [
      "Joining, by = \"names\"\n",
      "\n",
      "No id variables; using all as measure variables\n",
      "\n",
      "No id variables; using all as measure variables\n",
      "\n",
      "No id variables; using all as measure variables\n",
      "\n",
      "Using varname as id variables\n",
      "\n",
      "Using varname as id variables\n",
      "\n",
      "Using varname as id variables\n",
      "\n",
      "Using varname as id variables\n",
      "\n",
      "Using varname as id variables\n",
      "\n"
     ]
    },
    {
     "name": "stdout",
     "output_type": "stream",
     "text": [
      "[1] 4\n"
     ]
    },
    {
     "name": "stderr",
     "output_type": "stream",
     "text": [
      "Joining, by = \"names\"\n",
      "\n",
      "No id variables; using all as measure variables\n",
      "\n",
      "No id variables; using all as measure variables\n",
      "\n",
      "No id variables; using all as measure variables\n",
      "\n",
      "Using varname as id variables\n",
      "\n",
      "Using varname as id variables\n",
      "\n",
      "Using varname as id variables\n",
      "\n",
      "Using varname as id variables\n",
      "\n",
      "Using varname as id variables\n",
      "\n"
     ]
    },
    {
     "name": "stdout",
     "output_type": "stream",
     "text": [
      "[1] 5\n"
     ]
    },
    {
     "name": "stderr",
     "output_type": "stream",
     "text": [
      "Joining, by = \"names\"\n",
      "\n",
      "No id variables; using all as measure variables\n",
      "\n",
      "No id variables; using all as measure variables\n",
      "\n",
      "No id variables; using all as measure variables\n",
      "\n",
      "Using varname as id variables\n",
      "\n",
      "Using varname as id variables\n",
      "\n",
      "Using varname as id variables\n",
      "\n",
      "Using varname as id variables\n",
      "\n",
      "Using varname as id variables\n",
      "\n"
     ]
    },
    {
     "name": "stdout",
     "output_type": "stream",
     "text": [
      "[1] 6\n"
     ]
    },
    {
     "name": "stderr",
     "output_type": "stream",
     "text": [
      "Joining, by = \"names\"\n",
      "\n",
      "No id variables; using all as measure variables\n",
      "\n",
      "No id variables; using all as measure variables\n",
      "\n",
      "No id variables; using all as measure variables\n",
      "\n",
      "Using varname as id variables\n",
      "\n",
      "Using varname as id variables\n",
      "\n",
      "Using varname as id variables\n",
      "\n",
      "Using varname as id variables\n",
      "\n",
      "Using varname as id variables\n",
      "\n"
     ]
    },
    {
     "name": "stdout",
     "output_type": "stream",
     "text": [
      "[1] 7\n"
     ]
    },
    {
     "name": "stderr",
     "output_type": "stream",
     "text": [
      "Joining, by = \"names\"\n",
      "\n",
      "No id variables; using all as measure variables\n",
      "\n",
      "No id variables; using all as measure variables\n",
      "\n",
      "No id variables; using all as measure variables\n",
      "\n",
      "Using varname as id variables\n",
      "\n",
      "Using varname as id variables\n",
      "\n",
      "Using varname as id variables\n",
      "\n",
      "Using varname as id variables\n",
      "\n",
      "Using varname as id variables\n",
      "\n"
     ]
    },
    {
     "name": "stdout",
     "output_type": "stream",
     "text": [
      "[1] 8\n"
     ]
    },
    {
     "name": "stderr",
     "output_type": "stream",
     "text": [
      "Joining, by = \"names\"\n",
      "\n",
      "No id variables; using all as measure variables\n",
      "\n",
      "No id variables; using all as measure variables\n",
      "\n",
      "No id variables; using all as measure variables\n",
      "\n",
      "Using varname as id variables\n",
      "\n",
      "Using varname as id variables\n",
      "\n",
      "Using varname as id variables\n",
      "\n",
      "Using varname as id variables\n",
      "\n",
      "Using varname as id variables\n",
      "\n"
     ]
    },
    {
     "name": "stdout",
     "output_type": "stream",
     "text": [
      "[1] 9\n"
     ]
    },
    {
     "name": "stderr",
     "output_type": "stream",
     "text": [
      "Joining, by = \"names\"\n",
      "\n",
      "No id variables; using all as measure variables\n",
      "\n",
      "No id variables; using all as measure variables\n",
      "\n",
      "No id variables; using all as measure variables\n",
      "\n",
      "Using varname as id variables\n",
      "\n",
      "Using varname as id variables\n",
      "\n",
      "Using varname as id variables\n",
      "\n",
      "Using varname as id variables\n",
      "\n",
      "Using varname as id variables\n",
      "\n"
     ]
    },
    {
     "name": "stdout",
     "output_type": "stream",
     "text": [
      "[1] 10\n"
     ]
    },
    {
     "name": "stderr",
     "output_type": "stream",
     "text": [
      "Joining, by = \"names\"\n",
      "\n",
      "No id variables; using all as measure variables\n",
      "\n",
      "No id variables; using all as measure variables\n",
      "\n",
      "No id variables; using all as measure variables\n",
      "\n",
      "Using varname as id variables\n",
      "\n",
      "Using varname as id variables\n",
      "\n",
      "Using varname as id variables\n",
      "\n",
      "Using varname as id variables\n",
      "\n",
      "Using varname as id variables\n",
      "\n"
     ]
    },
    {
     "name": "stdout",
     "output_type": "stream",
     "text": [
      "[1] 11\n"
     ]
    },
    {
     "name": "stderr",
     "output_type": "stream",
     "text": [
      "Joining, by = \"names\"\n",
      "\n",
      "No id variables; using all as measure variables\n",
      "\n",
      "No id variables; using all as measure variables\n",
      "\n",
      "No id variables; using all as measure variables\n",
      "\n",
      "Using varname as id variables\n",
      "\n",
      "Using varname as id variables\n",
      "\n",
      "Using varname as id variables\n",
      "\n",
      "Using varname as id variables\n",
      "\n",
      "Using varname as id variables\n",
      "\n"
     ]
    },
    {
     "name": "stdout",
     "output_type": "stream",
     "text": [
      "[1] 12\n"
     ]
    },
    {
     "name": "stderr",
     "output_type": "stream",
     "text": [
      "Joining, by = \"names\"\n",
      "\n",
      "No id variables; using all as measure variables\n",
      "\n",
      "No id variables; using all as measure variables\n",
      "\n",
      "No id variables; using all as measure variables\n",
      "\n",
      "Using varname as id variables\n",
      "\n",
      "Using varname as id variables\n",
      "\n",
      "Using varname as id variables\n",
      "\n",
      "Using varname as id variables\n",
      "\n",
      "Using varname as id variables\n",
      "\n"
     ]
    },
    {
     "name": "stdout",
     "output_type": "stream",
     "text": [
      "[1] 13\n"
     ]
    },
    {
     "name": "stderr",
     "output_type": "stream",
     "text": [
      "Joining, by = \"names\"\n",
      "\n",
      "No id variables; using all as measure variables\n",
      "\n",
      "No id variables; using all as measure variables\n",
      "\n",
      "No id variables; using all as measure variables\n",
      "\n",
      "Using varname as id variables\n",
      "\n",
      "Using varname as id variables\n",
      "\n",
      "Using varname as id variables\n",
      "\n",
      "Using varname as id variables\n",
      "\n",
      "Using varname as id variables\n",
      "\n"
     ]
    },
    {
     "name": "stdout",
     "output_type": "stream",
     "text": [
      "[1] 14\n"
     ]
    },
    {
     "name": "stderr",
     "output_type": "stream",
     "text": [
      "Joining, by = \"names\"\n",
      "\n",
      "No id variables; using all as measure variables\n",
      "\n",
      "No id variables; using all as measure variables\n",
      "\n",
      "No id variables; using all as measure variables\n",
      "\n",
      "Using varname as id variables\n",
      "\n",
      "Using varname as id variables\n",
      "\n",
      "Using varname as id variables\n",
      "\n",
      "Using varname as id variables\n",
      "\n",
      "Using varname as id variables\n",
      "\n"
     ]
    },
    {
     "name": "stdout",
     "output_type": "stream",
     "text": [
      "[1] 15\n"
     ]
    },
    {
     "name": "stderr",
     "output_type": "stream",
     "text": [
      "Joining, by = \"names\"\n",
      "\n",
      "No id variables; using all as measure variables\n",
      "\n",
      "No id variables; using all as measure variables\n",
      "\n",
      "No id variables; using all as measure variables\n",
      "\n",
      "Using varname as id variables\n",
      "\n",
      "Using varname as id variables\n",
      "\n",
      "Using varname as id variables\n",
      "\n",
      "Using varname as id variables\n",
      "\n",
      "Using varname as id variables\n",
      "\n"
     ]
    },
    {
     "name": "stdout",
     "output_type": "stream",
     "text": [
      "[1] 16\n"
     ]
    },
    {
     "name": "stderr",
     "output_type": "stream",
     "text": [
      "Joining, by = \"names\"\n",
      "\n",
      "No id variables; using all as measure variables\n",
      "\n",
      "No id variables; using all as measure variables\n",
      "\n",
      "No id variables; using all as measure variables\n",
      "\n",
      "Using varname as id variables\n",
      "\n",
      "Using varname as id variables\n",
      "\n",
      "Using varname as id variables\n",
      "\n",
      "Using varname as id variables\n",
      "\n",
      "Using varname as id variables\n",
      "\n"
     ]
    },
    {
     "name": "stdout",
     "output_type": "stream",
     "text": [
      "[1] 17\n"
     ]
    },
    {
     "name": "stderr",
     "output_type": "stream",
     "text": [
      "Joining, by = \"names\"\n",
      "\n",
      "No id variables; using all as measure variables\n",
      "\n",
      "No id variables; using all as measure variables\n",
      "\n",
      "No id variables; using all as measure variables\n",
      "\n",
      "Using varname as id variables\n",
      "\n",
      "Using varname as id variables\n",
      "\n",
      "Using varname as id variables\n",
      "\n",
      "Using varname as id variables\n",
      "\n",
      "Using varname as id variables\n",
      "\n"
     ]
    },
    {
     "name": "stdout",
     "output_type": "stream",
     "text": [
      "[1] 18\n"
     ]
    },
    {
     "name": "stderr",
     "output_type": "stream",
     "text": [
      "Joining, by = \"names\"\n",
      "\n",
      "No id variables; using all as measure variables\n",
      "\n",
      "No id variables; using all as measure variables\n",
      "\n",
      "No id variables; using all as measure variables\n",
      "\n",
      "Using varname as id variables\n",
      "\n",
      "Using varname as id variables\n",
      "\n",
      "Using varname as id variables\n",
      "\n",
      "Using varname as id variables\n",
      "\n",
      "Using varname as id variables\n",
      "\n"
     ]
    },
    {
     "name": "stdout",
     "output_type": "stream",
     "text": [
      "[1] 19\n"
     ]
    },
    {
     "name": "stderr",
     "output_type": "stream",
     "text": [
      "Joining, by = \"names\"\n",
      "\n",
      "No id variables; using all as measure variables\n",
      "\n",
      "No id variables; using all as measure variables\n",
      "\n",
      "No id variables; using all as measure variables\n",
      "\n",
      "Using varname as id variables\n",
      "\n",
      "Using varname as id variables\n",
      "\n",
      "Using varname as id variables\n",
      "\n",
      "Using varname as id variables\n",
      "\n",
      "Using varname as id variables\n",
      "\n"
     ]
    },
    {
     "name": "stdout",
     "output_type": "stream",
     "text": [
      "[1] 20\n"
     ]
    },
    {
     "name": "stderr",
     "output_type": "stream",
     "text": [
      "Joining, by = \"names\"\n",
      "\n",
      "No id variables; using all as measure variables\n",
      "\n",
      "No id variables; using all as measure variables\n",
      "\n",
      "No id variables; using all as measure variables\n",
      "\n",
      "Using varname as id variables\n",
      "\n",
      "Using varname as id variables\n",
      "\n",
      "Using varname as id variables\n",
      "\n",
      "Using varname as id variables\n",
      "\n",
      "Using varname as id variables\n",
      "\n"
     ]
    },
    {
     "name": "stdout",
     "output_type": "stream",
     "text": [
      "[1] 21\n"
     ]
    },
    {
     "name": "stderr",
     "output_type": "stream",
     "text": [
      "Joining, by = \"names\"\n",
      "\n",
      "No id variables; using all as measure variables\n",
      "\n",
      "No id variables; using all as measure variables\n",
      "\n",
      "No id variables; using all as measure variables\n",
      "\n",
      "Using varname as id variables\n",
      "\n",
      "Using varname as id variables\n",
      "\n",
      "Using varname as id variables\n",
      "\n",
      "Using varname as id variables\n",
      "\n",
      "Using varname as id variables\n",
      "\n"
     ]
    },
    {
     "name": "stdout",
     "output_type": "stream",
     "text": [
      "[1] 22\n"
     ]
    },
    {
     "name": "stderr",
     "output_type": "stream",
     "text": [
      "Joining, by = \"names\"\n",
      "\n",
      "No id variables; using all as measure variables\n",
      "\n",
      "No id variables; using all as measure variables\n",
      "\n",
      "No id variables; using all as measure variables\n",
      "\n",
      "Using varname as id variables\n",
      "\n",
      "Using varname as id variables\n",
      "\n",
      "Using varname as id variables\n",
      "\n",
      "Using varname as id variables\n",
      "\n",
      "Using varname as id variables\n",
      "\n"
     ]
    },
    {
     "name": "stdout",
     "output_type": "stream",
     "text": [
      "[1] 23\n"
     ]
    },
    {
     "name": "stderr",
     "output_type": "stream",
     "text": [
      "Joining, by = \"names\"\n",
      "\n",
      "No id variables; using all as measure variables\n",
      "\n",
      "No id variables; using all as measure variables\n",
      "\n",
      "No id variables; using all as measure variables\n",
      "\n",
      "Using varname as id variables\n",
      "\n",
      "Using varname as id variables\n",
      "\n",
      "Using varname as id variables\n",
      "\n",
      "Using varname as id variables\n",
      "\n",
      "Using varname as id variables\n",
      "\n"
     ]
    },
    {
     "name": "stdout",
     "output_type": "stream",
     "text": [
      "[1] 24\n"
     ]
    },
    {
     "name": "stderr",
     "output_type": "stream",
     "text": [
      "Joining, by = \"names\"\n",
      "\n",
      "No id variables; using all as measure variables\n",
      "\n",
      "No id variables; using all as measure variables\n",
      "\n",
      "No id variables; using all as measure variables\n",
      "\n",
      "Using varname as id variables\n",
      "\n",
      "Using varname as id variables\n",
      "\n",
      "Using varname as id variables\n",
      "\n",
      "Using varname as id variables\n",
      "\n",
      "Using varname as id variables\n",
      "\n"
     ]
    },
    {
     "name": "stdout",
     "output_type": "stream",
     "text": [
      "[1] 25\n"
     ]
    },
    {
     "name": "stderr",
     "output_type": "stream",
     "text": [
      "Joining, by = \"names\"\n",
      "\n",
      "No id variables; using all as measure variables\n",
      "\n",
      "No id variables; using all as measure variables\n",
      "\n",
      "No id variables; using all as measure variables\n",
      "\n",
      "Using varname as id variables\n",
      "\n",
      "Using varname as id variables\n",
      "\n",
      "Using varname as id variables\n",
      "\n",
      "Using varname as id variables\n",
      "\n",
      "Using varname as id variables\n",
      "\n"
     ]
    },
    {
     "name": "stdout",
     "output_type": "stream",
     "text": [
      "[1] 26\n"
     ]
    },
    {
     "name": "stderr",
     "output_type": "stream",
     "text": [
      "Joining, by = \"names\"\n",
      "\n",
      "No id variables; using all as measure variables\n",
      "\n",
      "No id variables; using all as measure variables\n",
      "\n",
      "No id variables; using all as measure variables\n",
      "\n",
      "Using varname as id variables\n",
      "\n",
      "Using varname as id variables\n",
      "\n",
      "Using varname as id variables\n",
      "\n",
      "Using varname as id variables\n",
      "\n",
      "Using varname as id variables\n",
      "\n"
     ]
    },
    {
     "name": "stdout",
     "output_type": "stream",
     "text": [
      "[1] 27\n"
     ]
    },
    {
     "name": "stderr",
     "output_type": "stream",
     "text": [
      "Joining, by = \"names\"\n",
      "\n",
      "No id variables; using all as measure variables\n",
      "\n",
      "No id variables; using all as measure variables\n",
      "\n",
      "No id variables; using all as measure variables\n",
      "\n",
      "Using varname as id variables\n",
      "\n",
      "Using varname as id variables\n",
      "\n",
      "Using varname as id variables\n",
      "\n",
      "Using varname as id variables\n",
      "\n",
      "Using varname as id variables\n",
      "\n"
     ]
    },
    {
     "name": "stdout",
     "output_type": "stream",
     "text": [
      "[1] 28\n"
     ]
    },
    {
     "name": "stderr",
     "output_type": "stream",
     "text": [
      "Joining, by = \"names\"\n",
      "\n",
      "No id variables; using all as measure variables\n",
      "\n",
      "No id variables; using all as measure variables\n",
      "\n",
      "No id variables; using all as measure variables\n",
      "\n",
      "Using varname as id variables\n",
      "\n",
      "Using varname as id variables\n",
      "\n",
      "Using varname as id variables\n",
      "\n",
      "Using varname as id variables\n",
      "\n",
      "Using varname as id variables\n",
      "\n"
     ]
    },
    {
     "name": "stdout",
     "output_type": "stream",
     "text": [
      "[1] 29\n"
     ]
    },
    {
     "name": "stderr",
     "output_type": "stream",
     "text": [
      "Joining, by = \"names\"\n",
      "\n",
      "No id variables; using all as measure variables\n",
      "\n",
      "No id variables; using all as measure variables\n",
      "\n",
      "No id variables; using all as measure variables\n",
      "\n",
      "Using varname as id variables\n",
      "\n",
      "Using varname as id variables\n",
      "\n",
      "Using varname as id variables\n",
      "\n",
      "Using varname as id variables\n",
      "\n",
      "Using varname as id variables\n",
      "\n"
     ]
    },
    {
     "name": "stdout",
     "output_type": "stream",
     "text": [
      "[1] 30\n"
     ]
    },
    {
     "name": "stderr",
     "output_type": "stream",
     "text": [
      "Joining, by = \"names\"\n",
      "\n",
      "No id variables; using all as measure variables\n",
      "\n",
      "No id variables; using all as measure variables\n",
      "\n",
      "No id variables; using all as measure variables\n",
      "\n",
      "Using varname as id variables\n",
      "\n",
      "Using varname as id variables\n",
      "\n",
      "Using varname as id variables\n",
      "\n",
      "Using varname as id variables\n",
      "\n",
      "Using varname as id variables\n",
      "\n"
     ]
    },
    {
     "name": "stdout",
     "output_type": "stream",
     "text": [
      "[1] 31\n"
     ]
    },
    {
     "name": "stderr",
     "output_type": "stream",
     "text": [
      "Joining, by = \"names\"\n",
      "\n",
      "No id variables; using all as measure variables\n",
      "\n",
      "No id variables; using all as measure variables\n",
      "\n",
      "No id variables; using all as measure variables\n",
      "\n",
      "Using varname as id variables\n",
      "\n",
      "Using varname as id variables\n",
      "\n",
      "Using varname as id variables\n",
      "\n",
      "Using varname as id variables\n",
      "\n",
      "Using varname as id variables\n",
      "\n"
     ]
    },
    {
     "name": "stdout",
     "output_type": "stream",
     "text": [
      "[1] 32\n"
     ]
    },
    {
     "name": "stderr",
     "output_type": "stream",
     "text": [
      "Joining, by = \"names\"\n",
      "\n",
      "No id variables; using all as measure variables\n",
      "\n",
      "No id variables; using all as measure variables\n",
      "\n",
      "No id variables; using all as measure variables\n",
      "\n",
      "Using varname as id variables\n",
      "\n",
      "Using varname as id variables\n",
      "\n",
      "Using varname as id variables\n",
      "\n",
      "Using varname as id variables\n",
      "\n",
      "Using varname as id variables\n",
      "\n"
     ]
    },
    {
     "name": "stdout",
     "output_type": "stream",
     "text": [
      "[1] 33\n"
     ]
    },
    {
     "name": "stderr",
     "output_type": "stream",
     "text": [
      "Joining, by = \"names\"\n",
      "\n",
      "No id variables; using all as measure variables\n",
      "\n",
      "No id variables; using all as measure variables\n",
      "\n",
      "No id variables; using all as measure variables\n",
      "\n",
      "Using varname as id variables\n",
      "\n",
      "Using varname as id variables\n",
      "\n",
      "Using varname as id variables\n",
      "\n",
      "Using varname as id variables\n",
      "\n",
      "Using varname as id variables\n",
      "\n"
     ]
    },
    {
     "name": "stdout",
     "output_type": "stream",
     "text": [
      "[1] 34\n"
     ]
    },
    {
     "name": "stderr",
     "output_type": "stream",
     "text": [
      "Joining, by = \"names\"\n",
      "\n",
      "No id variables; using all as measure variables\n",
      "\n",
      "No id variables; using all as measure variables\n",
      "\n",
      "No id variables; using all as measure variables\n",
      "\n",
      "Using varname as id variables\n",
      "\n",
      "Using varname as id variables\n",
      "\n",
      "Using varname as id variables\n",
      "\n",
      "Using varname as id variables\n",
      "\n",
      "Using varname as id variables\n",
      "\n"
     ]
    },
    {
     "name": "stdout",
     "output_type": "stream",
     "text": [
      "[1] 35\n"
     ]
    },
    {
     "name": "stderr",
     "output_type": "stream",
     "text": [
      "Joining, by = \"names\"\n",
      "\n",
      "No id variables; using all as measure variables\n",
      "\n",
      "No id variables; using all as measure variables\n",
      "\n",
      "No id variables; using all as measure variables\n",
      "\n",
      "Using varname as id variables\n",
      "\n",
      "Using varname as id variables\n",
      "\n",
      "Using varname as id variables\n",
      "\n",
      "Using varname as id variables\n",
      "\n",
      "Using varname as id variables\n",
      "\n"
     ]
    },
    {
     "name": "stdout",
     "output_type": "stream",
     "text": [
      "[1] 36\n"
     ]
    },
    {
     "name": "stderr",
     "output_type": "stream",
     "text": [
      "Joining, by = \"names\"\n",
      "\n",
      "No id variables; using all as measure variables\n",
      "\n",
      "No id variables; using all as measure variables\n",
      "\n",
      "No id variables; using all as measure variables\n",
      "\n",
      "Using varname as id variables\n",
      "\n",
      "Using varname as id variables\n",
      "\n",
      "Using varname as id variables\n",
      "\n",
      "Using varname as id variables\n",
      "\n",
      "Using varname as id variables\n",
      "\n"
     ]
    },
    {
     "name": "stdout",
     "output_type": "stream",
     "text": [
      "[1] 37\n"
     ]
    },
    {
     "name": "stderr",
     "output_type": "stream",
     "text": [
      "Joining, by = \"names\"\n",
      "\n",
      "No id variables; using all as measure variables\n",
      "\n",
      "No id variables; using all as measure variables\n",
      "\n",
      "No id variables; using all as measure variables\n",
      "\n",
      "Using varname as id variables\n",
      "\n",
      "Using varname as id variables\n",
      "\n",
      "Using varname as id variables\n",
      "\n",
      "Using varname as id variables\n",
      "\n",
      "Using varname as id variables\n",
      "\n"
     ]
    },
    {
     "name": "stdout",
     "output_type": "stream",
     "text": [
      "[1] 38\n"
     ]
    },
    {
     "name": "stderr",
     "output_type": "stream",
     "text": [
      "Joining, by = \"names\"\n",
      "\n",
      "No id variables; using all as measure variables\n",
      "\n",
      "No id variables; using all as measure variables\n",
      "\n",
      "No id variables; using all as measure variables\n",
      "\n",
      "Using varname as id variables\n",
      "\n",
      "Using varname as id variables\n",
      "\n",
      "Using varname as id variables\n",
      "\n",
      "Using varname as id variables\n",
      "\n",
      "Using varname as id variables\n",
      "\n"
     ]
    },
    {
     "name": "stdout",
     "output_type": "stream",
     "text": [
      "[1] 39\n"
     ]
    },
    {
     "name": "stderr",
     "output_type": "stream",
     "text": [
      "Joining, by = \"names\"\n",
      "\n",
      "No id variables; using all as measure variables\n",
      "\n",
      "No id variables; using all as measure variables\n",
      "\n",
      "No id variables; using all as measure variables\n",
      "\n",
      "Using varname as id variables\n",
      "\n",
      "Using varname as id variables\n",
      "\n",
      "Using varname as id variables\n",
      "\n",
      "Using varname as id variables\n",
      "\n",
      "Using varname as id variables\n",
      "\n"
     ]
    },
    {
     "name": "stdout",
     "output_type": "stream",
     "text": [
      "[1] 40\n"
     ]
    },
    {
     "name": "stderr",
     "output_type": "stream",
     "text": [
      "Joining, by = \"names\"\n",
      "\n",
      "No id variables; using all as measure variables\n",
      "\n",
      "No id variables; using all as measure variables\n",
      "\n",
      "No id variables; using all as measure variables\n",
      "\n",
      "Using varname as id variables\n",
      "\n",
      "Using varname as id variables\n",
      "\n",
      "Using varname as id variables\n",
      "\n",
      "Using varname as id variables\n",
      "\n",
      "Using varname as id variables\n",
      "\n"
     ]
    }
   ],
   "source": [
    "\n",
    "# Run over all 36 clusters\n",
    "all_plts <- lapply(1:40,function(j){\n",
    "print(j)\n",
    "# Grab importances of first cluster, join with full df to have feature cls\n",
    "most_im_five <- feat_importance_insamp[[j]] %>% left_join(feat_importance_clustered %>% select(-importances)) %>% arrange(desc(importances)) %>% head(5) %>% select(names)\n",
    "\n",
    "\n",
    "\n",
    "# Get overall mean of most important features for all values\n",
    "all_vals <- all_data_labelled %>% filter(insamp==1) %>% select(most_im_five$names) %>%   summarise_all(mean) %>% melt(variable.name=c('varname'), value.name = c('overall_mean')) \n",
    "\n",
    "\n",
    "# Get overall mean of most important features for cluster values\n",
    "cls_vals <- all_data_labelled %>% filter(insamp==1&cls_label == j-1) %>% select(most_im_five$names) %>% summarise_all(mean) %>% reshape2::melt(variable.name=c('varname'), value.name = c('cluster_mean')) \n",
    "\n",
    "# Get singular values of most important features for representative time series\n",
    "repr_val <- all_data_labelled %>% filter(cls_center==1&cls_label == j-1) %>% select(most_im_five$names) %>% melt(variable.name=c('varname'), value.name = c('represent_TSfeature')) \n",
    "\n",
    "\n",
    "# Join values together\n",
    "means_comp<-all_vals %>% inner_join(cls_vals, by=c('varname')) %>% inner_join(repr_val,by=c('varname')) #%>% mutate(repr = as_factor(c(0,0,1)))\n",
    "\n",
    "\n",
    "# Make plot for each feature individually\n",
    "out <- lapply(1:5,function(i){means_comp %>% \n",
    "    reshape2::melt(variable.name=c('group')) %>% \n",
    "    \n",
    "    # Pick respective feature via filter\n",
    "    filter(varname== most_im_five$names[i]) %>% \n",
    "    \n",
    "    # Define column for who is representative\n",
    "    mutate(representative=as_factor(c(F,F,T))) %>% \n",
    "    \n",
    "    # Make Plot\n",
    "    ggplot(aes(value,representative))+\n",
    "    geom_line(aes(group=representative))+\n",
    "    geom_point(aes(color=group, size = 5))+\n",
    "    theme(axis.text.y=element_text(size=10),\n",
    "          axis.text.x=element_text(size=10), \n",
    "          text = element_text(size=10), \n",
    "          legend.position = \"none\",\n",
    "          )+\n",
    "    # Title for orientation based on cls and varname\n",
    "    ggtitle(paste('CLS ',j-1 , \" variable: \", gsub(\"_\", \".\", most_im_five$names[i])))})\n",
    "\n",
    "return(out)})\n",
    "\n",
    "\n",
    "\n",
    "\n"
   ]
  },
  {
   "cell_type": "markdown",
   "metadata": {},
   "source": []
  },
  {
   "cell_type": "markdown",
   "metadata": {},
   "source": [
    "### Visualize cls centers"
   ]
  },
  {
   "cell_type": "code",
   "execution_count": 24,
   "metadata": {
    "lines_to_next_cell": 2
   },
   "outputs": [],
   "source": [
    "# If ts is in affinity sample, then add to list\n",
    "sp_cls <- c()\n",
    "\n",
    "for (i in 1:length(spdat_reduced_all)){\n",
    "  if(spdat_reduced_all[[i]]$cls_information$cls_center == 1 ){\n",
    "  sp_cls[[length(sp_cls)+1]] <- spdat_reduced_all[[i]]}}"
   ]
  },
  {
   "cell_type": "code",
   "execution_count": null,
   "metadata": {
    "fig.width": 10
   },
   "outputs": [],
   "source": [
    "serieslst <- map2(sp_cls, c(seq(0:39)), function(lstelm, i){lstelm$Series %>% autoplot()+ggtitle(paste('Center of cls', i-1))+\n",
    "      theme(\n",
    "    axis.text.x = element_text(angle = 90, size=20),\n",
    "    title = element_text(size=25))})"
   ]
  }
 ],
 "metadata": {
  "jupytext": {
   "cell_metadata_filter": "fig.width,message,tags,fig.height,echo,name,-all",
   "main_language": "R",
   "notebook_metadata_filter": "-all"
  },
  "kernelspec": {
   "display_name": "R",
   "language": "R",
   "name": "ir"
  },
  "language_info": {
   "codemirror_mode": "r",
   "file_extension": ".r",
   "mimetype": "text/x-r-source",
   "name": "R",
   "pygments_lexer": "r",
   "version": "4.0.4"
  }
 },
 "nbformat": 4,
 "nbformat_minor": 4
}
